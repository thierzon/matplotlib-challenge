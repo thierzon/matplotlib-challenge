{
 "cells": [
  {
   "cell_type": "markdown",
   "metadata": {},
   "source": [
    "## Observations and Insights "
   ]
  },
  {
   "cell_type": "markdown",
   "metadata": {},
   "source": []
  },
  {
   "cell_type": "code",
   "execution_count": 2,
   "metadata": {},
   "outputs": [
    {
     "output_type": "execute_result",
     "data": {
      "text/plain": [
       "     Mouse ID Drug Regimen   Sex  Age_months  Weight (g)  Timepoint  \\\n",
       "0        k403     Ramicane  Male          21          16          0   \n",
       "1        k403     Ramicane  Male          21          16          5   \n",
       "2        k403     Ramicane  Male          21          16         10   \n",
       "3        k403     Ramicane  Male          21          16         15   \n",
       "4        k403     Ramicane  Male          21          16         20   \n",
       "...       ...          ...   ...         ...         ...        ...   \n",
       "1888     z969     Naftisol  Male           9          30         25   \n",
       "1889     z969     Naftisol  Male           9          30         30   \n",
       "1890     z969     Naftisol  Male           9          30         35   \n",
       "1891     z969     Naftisol  Male           9          30         40   \n",
       "1892     z969     Naftisol  Male           9          30         45   \n",
       "\n",
       "      Tumor Volume (mm3)  Metastatic Sites  \n",
       "0              45.000000                 0  \n",
       "1              38.825898                 0  \n",
       "2              35.014271                 1  \n",
       "3              34.223992                 1  \n",
       "4              32.997729                 1  \n",
       "...                  ...               ...  \n",
       "1888           63.145652                 2  \n",
       "1889           65.841013                 3  \n",
       "1890           69.176246                 4  \n",
       "1891           70.314904                 4  \n",
       "1892           73.867845                 4  \n",
       "\n",
       "[1893 rows x 8 columns]"
      ],
      "text/html": "<div>\n<style scoped>\n    .dataframe tbody tr th:only-of-type {\n        vertical-align: middle;\n    }\n\n    .dataframe tbody tr th {\n        vertical-align: top;\n    }\n\n    .dataframe thead th {\n        text-align: right;\n    }\n</style>\n<table border=\"1\" class=\"dataframe\">\n  <thead>\n    <tr style=\"text-align: right;\">\n      <th></th>\n      <th>Mouse ID</th>\n      <th>Drug Regimen</th>\n      <th>Sex</th>\n      <th>Age_months</th>\n      <th>Weight (g)</th>\n      <th>Timepoint</th>\n      <th>Tumor Volume (mm3)</th>\n      <th>Metastatic Sites</th>\n    </tr>\n  </thead>\n  <tbody>\n    <tr>\n      <th>0</th>\n      <td>k403</td>\n      <td>Ramicane</td>\n      <td>Male</td>\n      <td>21</td>\n      <td>16</td>\n      <td>0</td>\n      <td>45.000000</td>\n      <td>0</td>\n    </tr>\n    <tr>\n      <th>1</th>\n      <td>k403</td>\n      <td>Ramicane</td>\n      <td>Male</td>\n      <td>21</td>\n      <td>16</td>\n      <td>5</td>\n      <td>38.825898</td>\n      <td>0</td>\n    </tr>\n    <tr>\n      <th>2</th>\n      <td>k403</td>\n      <td>Ramicane</td>\n      <td>Male</td>\n      <td>21</td>\n      <td>16</td>\n      <td>10</td>\n      <td>35.014271</td>\n      <td>1</td>\n    </tr>\n    <tr>\n      <th>3</th>\n      <td>k403</td>\n      <td>Ramicane</td>\n      <td>Male</td>\n      <td>21</td>\n      <td>16</td>\n      <td>15</td>\n      <td>34.223992</td>\n      <td>1</td>\n    </tr>\n    <tr>\n      <th>4</th>\n      <td>k403</td>\n      <td>Ramicane</td>\n      <td>Male</td>\n      <td>21</td>\n      <td>16</td>\n      <td>20</td>\n      <td>32.997729</td>\n      <td>1</td>\n    </tr>\n    <tr>\n      <th>...</th>\n      <td>...</td>\n      <td>...</td>\n      <td>...</td>\n      <td>...</td>\n      <td>...</td>\n      <td>...</td>\n      <td>...</td>\n      <td>...</td>\n    </tr>\n    <tr>\n      <th>1888</th>\n      <td>z969</td>\n      <td>Naftisol</td>\n      <td>Male</td>\n      <td>9</td>\n      <td>30</td>\n      <td>25</td>\n      <td>63.145652</td>\n      <td>2</td>\n    </tr>\n    <tr>\n      <th>1889</th>\n      <td>z969</td>\n      <td>Naftisol</td>\n      <td>Male</td>\n      <td>9</td>\n      <td>30</td>\n      <td>30</td>\n      <td>65.841013</td>\n      <td>3</td>\n    </tr>\n    <tr>\n      <th>1890</th>\n      <td>z969</td>\n      <td>Naftisol</td>\n      <td>Male</td>\n      <td>9</td>\n      <td>30</td>\n      <td>35</td>\n      <td>69.176246</td>\n      <td>4</td>\n    </tr>\n    <tr>\n      <th>1891</th>\n      <td>z969</td>\n      <td>Naftisol</td>\n      <td>Male</td>\n      <td>9</td>\n      <td>30</td>\n      <td>40</td>\n      <td>70.314904</td>\n      <td>4</td>\n    </tr>\n    <tr>\n      <th>1892</th>\n      <td>z969</td>\n      <td>Naftisol</td>\n      <td>Male</td>\n      <td>9</td>\n      <td>30</td>\n      <td>45</td>\n      <td>73.867845</td>\n      <td>4</td>\n    </tr>\n  </tbody>\n</table>\n<p>1893 rows × 8 columns</p>\n</div>"
     },
     "metadata": {},
     "execution_count": 2
    }
   ],
   "source": [
    "# Dependencies and Setup\n",
    "import matplotlib.pyplot as plt\n",
    "import pandas as pd\n",
    "import scipy.stats as sts\n",
    "from scipy.stats import sem\n",
    "\n",
    "# Study data files\n",
    "mouse_metadata_path = \"data/Mouse_metadata.csv\"\n",
    "study_results_path = \"data/Study_results.csv\"\n",
    "\n",
    "# Read the mouse data and the study results\n",
    "mouse_metadata = pd.read_csv(mouse_metadata_path)\n",
    "study_results = pd.read_csv(study_results_path)\n",
    "\n",
    "# Combine the data into a single dataset\n",
    "study_data = pd.merge(mouse_metadata,study_results, on=\"Mouse ID\", how=\"inner\")\n",
    "\n",
    "# Display the data table for preview\n",
    "study_data"
   ]
  },
  {
   "cell_type": "code",
   "execution_count": 3,
   "metadata": {},
   "outputs": [
    {
     "output_type": "stream",
     "name": "stdout",
     "text": [
      "In the study a total number of 249 mice are included.\n"
     ]
    }
   ],
   "source": [
    "# Checking the number of mice.\n",
    "total_mice = study_data[\"Mouse ID\"].nunique()\n",
    "\n",
    "print(f\"In the study a total number of {total_mice} mice are included.\")"
   ]
  },
  {
   "cell_type": "code",
   "execution_count": 4,
   "metadata": {},
   "outputs": [
    {
     "output_type": "execute_result",
     "data": {
      "text/plain": [
       "     Mouse ID\n",
       "137      g989\n",
       "360      g989\n",
       "681      g989\n",
       "869      g989\n",
       "1111     g989"
      ],
      "text/html": "<div>\n<style scoped>\n    .dataframe tbody tr th:only-of-type {\n        vertical-align: middle;\n    }\n\n    .dataframe tbody tr th {\n        vertical-align: top;\n    }\n\n    .dataframe thead th {\n        text-align: right;\n    }\n</style>\n<table border=\"1\" class=\"dataframe\">\n  <thead>\n    <tr style=\"text-align: right;\">\n      <th></th>\n      <th>Mouse ID</th>\n    </tr>\n  </thead>\n  <tbody>\n    <tr>\n      <th>137</th>\n      <td>g989</td>\n    </tr>\n    <tr>\n      <th>360</th>\n      <td>g989</td>\n    </tr>\n    <tr>\n      <th>681</th>\n      <td>g989</td>\n    </tr>\n    <tr>\n      <th>869</th>\n      <td>g989</td>\n    </tr>\n    <tr>\n      <th>1111</th>\n      <td>g989</td>\n    </tr>\n  </tbody>\n</table>\n</div>"
     },
     "metadata": {},
     "execution_count": 4
    }
   ],
   "source": [
    "# Getting the duplicate mice by ID number that shows up for Mouse ID and Timepoint. \n",
    "\n",
    "duplicate = pd.DataFrame(study_results.duplicated(subset=[\"Mouse ID\", \"Timepoint\"]))\n",
    "\n",
    "duplicate = pd.DataFrame(duplicate.loc[duplicate[0] == True], columns=[\"Mouse ID\"])\n",
    "\n",
    "duplicate[\"Mouse ID\"] = [study_results.iloc[duplicate.index[x],0] for x in range(len(duplicate))]\n",
    "\n",
    "duplicate"
   ]
  },
  {
   "cell_type": "code",
   "execution_count": 5,
   "metadata": {},
   "outputs": [
    {
     "output_type": "execute_result",
     "data": {
      "text/plain": [
       "     Mouse ID  Timepoint  Tumor Volume (mm3)  Metastatic Sites\n",
       "137      g989          0           45.000000                 0\n",
       "360      g989          5           47.570392                 0\n",
       "681      g989         10           49.880528                 0\n",
       "869      g989         15           53.442020                 0\n",
       "1111     g989         20           54.657650                 1"
      ],
      "text/html": "<div>\n<style scoped>\n    .dataframe tbody tr th:only-of-type {\n        vertical-align: middle;\n    }\n\n    .dataframe tbody tr th {\n        vertical-align: top;\n    }\n\n    .dataframe thead th {\n        text-align: right;\n    }\n</style>\n<table border=\"1\" class=\"dataframe\">\n  <thead>\n    <tr style=\"text-align: right;\">\n      <th></th>\n      <th>Mouse ID</th>\n      <th>Timepoint</th>\n      <th>Tumor Volume (mm3)</th>\n      <th>Metastatic Sites</th>\n    </tr>\n  </thead>\n  <tbody>\n    <tr>\n      <th>137</th>\n      <td>g989</td>\n      <td>0</td>\n      <td>45.000000</td>\n      <td>0</td>\n    </tr>\n    <tr>\n      <th>360</th>\n      <td>g989</td>\n      <td>5</td>\n      <td>47.570392</td>\n      <td>0</td>\n    </tr>\n    <tr>\n      <th>681</th>\n      <td>g989</td>\n      <td>10</td>\n      <td>49.880528</td>\n      <td>0</td>\n    </tr>\n    <tr>\n      <th>869</th>\n      <td>g989</td>\n      <td>15</td>\n      <td>53.442020</td>\n      <td>0</td>\n    </tr>\n    <tr>\n      <th>1111</th>\n      <td>g989</td>\n      <td>20</td>\n      <td>54.657650</td>\n      <td>1</td>\n    </tr>\n  </tbody>\n</table>\n</div>"
     },
     "metadata": {},
     "execution_count": 5
    }
   ],
   "source": [
    "# Optional: Get all the data for the duplicate mouse ID. \n",
    "\n",
    "difference = pd.DataFrame([study_results.iloc[duplicate.index[x],:] for x in range(len(duplicate))])\n",
    "\n",
    "difference"
   ]
  },
  {
   "cell_type": "code",
   "execution_count": 6,
   "metadata": {},
   "outputs": [
    {
     "output_type": "execute_result",
     "data": {
      "text/plain": [
       "     Mouse ID Drug Regimen   Sex  Age_months  Weight (g)  Timepoint  \\\n",
       "0        k403     Ramicane  Male          21          16          0   \n",
       "1        k403     Ramicane  Male          21          16          5   \n",
       "2        k403     Ramicane  Male          21          16         10   \n",
       "3        k403     Ramicane  Male          21          16         15   \n",
       "4        k403     Ramicane  Male          21          16         20   \n",
       "...       ...          ...   ...         ...         ...        ...   \n",
       "1888     z969     Naftisol  Male           9          30         25   \n",
       "1889     z969     Naftisol  Male           9          30         30   \n",
       "1890     z969     Naftisol  Male           9          30         35   \n",
       "1891     z969     Naftisol  Male           9          30         40   \n",
       "1892     z969     Naftisol  Male           9          30         45   \n",
       "\n",
       "      Tumor Volume (mm3)  Metastatic Sites  \n",
       "0              45.000000                 0  \n",
       "1              38.825898                 0  \n",
       "2              35.014271                 1  \n",
       "3              34.223992                 1  \n",
       "4              32.997729                 1  \n",
       "...                  ...               ...  \n",
       "1888           63.145652                 2  \n",
       "1889           65.841013                 3  \n",
       "1890           69.176246                 4  \n",
       "1891           70.314904                 4  \n",
       "1892           73.867845                 4  \n",
       "\n",
       "[1888 rows x 8 columns]"
      ],
      "text/html": "<div>\n<style scoped>\n    .dataframe tbody tr th:only-of-type {\n        vertical-align: middle;\n    }\n\n    .dataframe tbody tr th {\n        vertical-align: top;\n    }\n\n    .dataframe thead th {\n        text-align: right;\n    }\n</style>\n<table border=\"1\" class=\"dataframe\">\n  <thead>\n    <tr style=\"text-align: right;\">\n      <th></th>\n      <th>Mouse ID</th>\n      <th>Drug Regimen</th>\n      <th>Sex</th>\n      <th>Age_months</th>\n      <th>Weight (g)</th>\n      <th>Timepoint</th>\n      <th>Tumor Volume (mm3)</th>\n      <th>Metastatic Sites</th>\n    </tr>\n  </thead>\n  <tbody>\n    <tr>\n      <th>0</th>\n      <td>k403</td>\n      <td>Ramicane</td>\n      <td>Male</td>\n      <td>21</td>\n      <td>16</td>\n      <td>0</td>\n      <td>45.000000</td>\n      <td>0</td>\n    </tr>\n    <tr>\n      <th>1</th>\n      <td>k403</td>\n      <td>Ramicane</td>\n      <td>Male</td>\n      <td>21</td>\n      <td>16</td>\n      <td>5</td>\n      <td>38.825898</td>\n      <td>0</td>\n    </tr>\n    <tr>\n      <th>2</th>\n      <td>k403</td>\n      <td>Ramicane</td>\n      <td>Male</td>\n      <td>21</td>\n      <td>16</td>\n      <td>10</td>\n      <td>35.014271</td>\n      <td>1</td>\n    </tr>\n    <tr>\n      <th>3</th>\n      <td>k403</td>\n      <td>Ramicane</td>\n      <td>Male</td>\n      <td>21</td>\n      <td>16</td>\n      <td>15</td>\n      <td>34.223992</td>\n      <td>1</td>\n    </tr>\n    <tr>\n      <th>4</th>\n      <td>k403</td>\n      <td>Ramicane</td>\n      <td>Male</td>\n      <td>21</td>\n      <td>16</td>\n      <td>20</td>\n      <td>32.997729</td>\n      <td>1</td>\n    </tr>\n    <tr>\n      <th>...</th>\n      <td>...</td>\n      <td>...</td>\n      <td>...</td>\n      <td>...</td>\n      <td>...</td>\n      <td>...</td>\n      <td>...</td>\n      <td>...</td>\n    </tr>\n    <tr>\n      <th>1888</th>\n      <td>z969</td>\n      <td>Naftisol</td>\n      <td>Male</td>\n      <td>9</td>\n      <td>30</td>\n      <td>25</td>\n      <td>63.145652</td>\n      <td>2</td>\n    </tr>\n    <tr>\n      <th>1889</th>\n      <td>z969</td>\n      <td>Naftisol</td>\n      <td>Male</td>\n      <td>9</td>\n      <td>30</td>\n      <td>30</td>\n      <td>65.841013</td>\n      <td>3</td>\n    </tr>\n    <tr>\n      <th>1890</th>\n      <td>z969</td>\n      <td>Naftisol</td>\n      <td>Male</td>\n      <td>9</td>\n      <td>30</td>\n      <td>35</td>\n      <td>69.176246</td>\n      <td>4</td>\n    </tr>\n    <tr>\n      <th>1891</th>\n      <td>z969</td>\n      <td>Naftisol</td>\n      <td>Male</td>\n      <td>9</td>\n      <td>30</td>\n      <td>40</td>\n      <td>70.314904</td>\n      <td>4</td>\n    </tr>\n    <tr>\n      <th>1892</th>\n      <td>z969</td>\n      <td>Naftisol</td>\n      <td>Male</td>\n      <td>9</td>\n      <td>30</td>\n      <td>45</td>\n      <td>73.867845</td>\n      <td>4</td>\n    </tr>\n  </tbody>\n</table>\n<p>1888 rows × 8 columns</p>\n</div>"
     },
     "metadata": {},
     "execution_count": 6
    }
   ],
   "source": [
    "# Create a clean DataFrame by dropping the duplicate mouse by its ID.\n",
    "\n",
    "clean_data = study_data.drop_duplicates(subset=[\"Mouse ID\", \"Timepoint\"], keep=\"first\")\n",
    "\n",
    "clean_data"
   ]
  },
  {
   "cell_type": "code",
   "execution_count": 7,
   "metadata": {},
   "outputs": [
    {
     "output_type": "stream",
     "name": "stdout",
     "text": [
      "In the cleaned study data a total number of 249 mice are included.\n"
     ]
    }
   ],
   "source": [
    "# Checking the number of mice in the clean DataFrame.\n",
    "\n",
    "clean_total_mice = clean_data[\"Mouse ID\"].nunique()\n",
    "\n",
    "print(f\"In the cleaned study data a total number of {clean_total_mice} mice are included.\")"
   ]
  },
  {
   "cell_type": "markdown",
   "metadata": {},
   "source": [
    "## Summary Statistics"
   ]
  },
  {
   "cell_type": "code",
   "execution_count": 70,
   "metadata": {},
   "outputs": [
    {
     "output_type": "execute_result",
     "data": {
      "text/plain": [
       "              Tumor Volume MEAN  Tumor Volume MED  Tumor Volume VAR  \\\n",
       "Drug Regimen                                                          \n",
       "Ramicane                  40.22             40.67             23.49   \n",
       "Capomulin                 40.68             41.56             24.95   \n",
       "Infubinol                 52.88             51.82             43.13   \n",
       "Placebo                   54.03             52.29             61.17   \n",
       "Ceftamin                  52.59             51.78             39.29   \n",
       "Stelasyn                  54.23             52.43             59.45   \n",
       "Zoniferol                 53.24             51.82             48.53   \n",
       "Ketapril                  55.24             53.70             68.55   \n",
       "Propriva                  52.39             50.91             43.14   \n",
       "Naftisol                  54.33             52.51             66.17   \n",
       "\n",
       "              Tumor Volume STD  Tumor Volume SEM  \n",
       "Drug Regimen                                      \n",
       "Ramicane                  4.85              0.32  \n",
       "Capomulin                 4.99              0.33  \n",
       "Infubinol                 6.57              0.49  \n",
       "Placebo                   7.82              0.58  \n",
       "Ceftamin                  6.27              0.47  \n",
       "Stelasyn                  7.71              0.57  \n",
       "Zoniferol                 6.97              0.52  \n",
       "Ketapril                  8.28              0.60  \n",
       "Propriva                  6.57              0.53  \n",
       "Naftisol                  8.13              0.60  "
      ],
      "text/html": "<div>\n<style scoped>\n    .dataframe tbody tr th:only-of-type {\n        vertical-align: middle;\n    }\n\n    .dataframe tbody tr th {\n        vertical-align: top;\n    }\n\n    .dataframe thead th {\n        text-align: right;\n    }\n</style>\n<table border=\"1\" class=\"dataframe\">\n  <thead>\n    <tr style=\"text-align: right;\">\n      <th></th>\n      <th>Tumor Volume MEAN</th>\n      <th>Tumor Volume MED</th>\n      <th>Tumor Volume VAR</th>\n      <th>Tumor Volume STD</th>\n      <th>Tumor Volume SEM</th>\n    </tr>\n    <tr>\n      <th>Drug Regimen</th>\n      <th></th>\n      <th></th>\n      <th></th>\n      <th></th>\n      <th></th>\n    </tr>\n  </thead>\n  <tbody>\n    <tr>\n      <th>Ramicane</th>\n      <td>40.22</td>\n      <td>40.67</td>\n      <td>23.49</td>\n      <td>4.85</td>\n      <td>0.32</td>\n    </tr>\n    <tr>\n      <th>Capomulin</th>\n      <td>40.68</td>\n      <td>41.56</td>\n      <td>24.95</td>\n      <td>4.99</td>\n      <td>0.33</td>\n    </tr>\n    <tr>\n      <th>Infubinol</th>\n      <td>52.88</td>\n      <td>51.82</td>\n      <td>43.13</td>\n      <td>6.57</td>\n      <td>0.49</td>\n    </tr>\n    <tr>\n      <th>Placebo</th>\n      <td>54.03</td>\n      <td>52.29</td>\n      <td>61.17</td>\n      <td>7.82</td>\n      <td>0.58</td>\n    </tr>\n    <tr>\n      <th>Ceftamin</th>\n      <td>52.59</td>\n      <td>51.78</td>\n      <td>39.29</td>\n      <td>6.27</td>\n      <td>0.47</td>\n    </tr>\n    <tr>\n      <th>Stelasyn</th>\n      <td>54.23</td>\n      <td>52.43</td>\n      <td>59.45</td>\n      <td>7.71</td>\n      <td>0.57</td>\n    </tr>\n    <tr>\n      <th>Zoniferol</th>\n      <td>53.24</td>\n      <td>51.82</td>\n      <td>48.53</td>\n      <td>6.97</td>\n      <td>0.52</td>\n    </tr>\n    <tr>\n      <th>Ketapril</th>\n      <td>55.24</td>\n      <td>53.70</td>\n      <td>68.55</td>\n      <td>8.28</td>\n      <td>0.60</td>\n    </tr>\n    <tr>\n      <th>Propriva</th>\n      <td>52.39</td>\n      <td>50.91</td>\n      <td>43.14</td>\n      <td>6.57</td>\n      <td>0.53</td>\n    </tr>\n    <tr>\n      <th>Naftisol</th>\n      <td>54.33</td>\n      <td>52.51</td>\n      <td>66.17</td>\n      <td>8.13</td>\n      <td>0.60</td>\n    </tr>\n  </tbody>\n</table>\n</div>"
     },
     "metadata": {},
     "execution_count": 70
    }
   ],
   "source": [
    "# Generate a summary statistics table of mean, median, variance, standard deviation, and SEM of the tumor volume for each regimen\n",
    "\n",
    "# This method is the most straighforward, creating multiple series and putting them all together at the end.\n",
    "\n",
    "number_regimen = clean_data[\"Drug Regimen\"].unique()\n",
    "\n",
    "regimen_stats_1 = pd.DataFrame()\n",
    "\n",
    "for regimen in number_regimen:\n",
    "    regimen_data = clean_data.loc[clean_data[\"Drug Regimen\"] == regimen]\n",
    "    stats = pd.Series([regimen, round(regimen_data[\"Tumor Volume (mm3)\"].mean(),2),round(regimen_data[\"Tumor Volume (mm3)\"].median(),2),round(regimen_data[\"Tumor Volume (mm3)\"].var(),2),\n",
    "    round(regimen_data[\"Tumor Volume (mm3)\"].std(),2),round(regimen_data[\"Tumor Volume (mm3)\"].sem(),2)])\n",
    "    regimen_stats_1 = regimen_stats_1.append(stats, ignore_index=True)\n",
    "\n",
    "regimen_stats_1 = regimen_stats_1.rename(columns={0:\"Drug Regimen\",1:\"Tumor Volume MEAN\",2:\"Tumor Volume MED\",3:\"Tumor Volume VAR\",4:\"Tumor Volume STD\",5:\"Tumor Volume SEM\"}).set_index([\"Drug Regimen\"])\n",
    "\n",
    "regimen_stats_1"
   ]
  },
  {
   "cell_type": "code",
   "execution_count": 31,
   "metadata": {},
   "outputs": [
    {
     "output_type": "execute_result",
     "data": {
      "text/plain": [
       "              Tumor Volume MEAN  Tumor Volume MED  Tumor Volume VAR  \\\n",
       "Drug Regimen                                                          \n",
       "Capomulin                 40.68             41.56             24.95   \n",
       "Ceftamin                  52.59             51.78             39.29   \n",
       "Infubinol                 52.88             51.82             43.13   \n",
       "Ketapril                  55.24             53.70             68.55   \n",
       "Naftisol                  54.33             52.51             66.17   \n",
       "Placebo                   54.03             52.29             61.17   \n",
       "Propriva                  52.39             50.91             43.14   \n",
       "Ramicane                  40.22             40.67             23.49   \n",
       "Stelasyn                  54.23             52.43             59.45   \n",
       "Zoniferol                 53.24             51.82             48.53   \n",
       "\n",
       "              Tumor Volume STD  Tumor Volume SEM  \n",
       "Drug Regimen                                      \n",
       "Capomulin                 4.99              0.33  \n",
       "Ceftamin                  6.27              0.47  \n",
       "Infubinol                 6.57              0.49  \n",
       "Ketapril                  8.28              0.60  \n",
       "Naftisol                  8.13              0.60  \n",
       "Placebo                   7.82              0.58  \n",
       "Propriva                  6.57              0.53  \n",
       "Ramicane                  4.85              0.32  \n",
       "Stelasyn                  7.71              0.57  \n",
       "Zoniferol                 6.97              0.52  "
      ],
      "text/html": "<div>\n<style scoped>\n    .dataframe tbody tr th:only-of-type {\n        vertical-align: middle;\n    }\n\n    .dataframe tbody tr th {\n        vertical-align: top;\n    }\n\n    .dataframe thead th {\n        text-align: right;\n    }\n</style>\n<table border=\"1\" class=\"dataframe\">\n  <thead>\n    <tr style=\"text-align: right;\">\n      <th></th>\n      <th>Tumor Volume MEAN</th>\n      <th>Tumor Volume MED</th>\n      <th>Tumor Volume VAR</th>\n      <th>Tumor Volume STD</th>\n      <th>Tumor Volume SEM</th>\n    </tr>\n    <tr>\n      <th>Drug Regimen</th>\n      <th></th>\n      <th></th>\n      <th></th>\n      <th></th>\n      <th></th>\n    </tr>\n  </thead>\n  <tbody>\n    <tr>\n      <th>Capomulin</th>\n      <td>40.68</td>\n      <td>41.56</td>\n      <td>24.95</td>\n      <td>4.99</td>\n      <td>0.33</td>\n    </tr>\n    <tr>\n      <th>Ceftamin</th>\n      <td>52.59</td>\n      <td>51.78</td>\n      <td>39.29</td>\n      <td>6.27</td>\n      <td>0.47</td>\n    </tr>\n    <tr>\n      <th>Infubinol</th>\n      <td>52.88</td>\n      <td>51.82</td>\n      <td>43.13</td>\n      <td>6.57</td>\n      <td>0.49</td>\n    </tr>\n    <tr>\n      <th>Ketapril</th>\n      <td>55.24</td>\n      <td>53.70</td>\n      <td>68.55</td>\n      <td>8.28</td>\n      <td>0.60</td>\n    </tr>\n    <tr>\n      <th>Naftisol</th>\n      <td>54.33</td>\n      <td>52.51</td>\n      <td>66.17</td>\n      <td>8.13</td>\n      <td>0.60</td>\n    </tr>\n    <tr>\n      <th>Placebo</th>\n      <td>54.03</td>\n      <td>52.29</td>\n      <td>61.17</td>\n      <td>7.82</td>\n      <td>0.58</td>\n    </tr>\n    <tr>\n      <th>Propriva</th>\n      <td>52.39</td>\n      <td>50.91</td>\n      <td>43.14</td>\n      <td>6.57</td>\n      <td>0.53</td>\n    </tr>\n    <tr>\n      <th>Ramicane</th>\n      <td>40.22</td>\n      <td>40.67</td>\n      <td>23.49</td>\n      <td>4.85</td>\n      <td>0.32</td>\n    </tr>\n    <tr>\n      <th>Stelasyn</th>\n      <td>54.23</td>\n      <td>52.43</td>\n      <td>59.45</td>\n      <td>7.71</td>\n      <td>0.57</td>\n    </tr>\n    <tr>\n      <th>Zoniferol</th>\n      <td>53.24</td>\n      <td>51.82</td>\n      <td>48.53</td>\n      <td>6.97</td>\n      <td>0.52</td>\n    </tr>\n  </tbody>\n</table>\n</div>"
     },
     "metadata": {},
     "execution_count": 31
    }
   ],
   "source": [
    "# Generate a summary statistics table of mean, median, variance, standard deviation, and SEM of the tumor volume for each regimen\n",
    "\n",
    "# This method produces everything in a single groupby function\n",
    "\n",
    "grouped_regimen_data = clean_data.groupby(\"Drug Regimen\")\n",
    "\n",
    "regimen_stats_2 = round(pd.DataFrame(grouped_regimen_data[\"Tumor Volume (mm3)\"].mean()),2).rename(columns={\"Tumor Volume (mm3)\":\"Tumor Volume MEAN\"})\n",
    "regimen_stats_2[\"Tumor Volume MED\"] = round(grouped_regimen_data[\"Tumor Volume (mm3)\"].median(),2)\n",
    "regimen_stats_2[\"Tumor Volume VAR\"] = round(grouped_regimen_data[\"Tumor Volume (mm3)\"].var(),2)\n",
    "regimen_stats_2[\"Tumor Volume STD\"] = round(grouped_regimen_data[\"Tumor Volume (mm3)\"].std(),2)\n",
    "regimen_stats_2[\"Tumor Volume SEM\"] = round(grouped_regimen_data[\"Tumor Volume (mm3)\"].sem(),2)\n",
    "regimen_stats_2"
   ]
  },
  {
   "cell_type": "markdown",
   "metadata": {},
   "source": [
    "## Bar and Pie Charts"
   ]
  },
  {
   "cell_type": "code",
   "execution_count": null,
   "metadata": {},
   "outputs": [],
   "source": [
    "# Generate a bar plot showing the total number of mice for each treatment throughout the course of the study using pandas. \n",
    "\n"
   ]
  },
  {
   "cell_type": "code",
   "execution_count": null,
   "metadata": {},
   "outputs": [],
   "source": [
    "# Generate a bar plot showing the total number of mice for each treatment throughout the course of the study using pyplot.\n",
    "\n"
   ]
  },
  {
   "cell_type": "code",
   "execution_count": null,
   "metadata": {},
   "outputs": [],
   "source": [
    "# Generate a pie plot showing the distribution of female versus male mice using pandas\n",
    "\n"
   ]
  },
  {
   "cell_type": "code",
   "execution_count": null,
   "metadata": {},
   "outputs": [],
   "source": [
    "# Generate a pie plot showing the distribution of female versus male mice using pyplot\n",
    "\n"
   ]
  },
  {
   "cell_type": "markdown",
   "metadata": {},
   "source": [
    "## Quartiles, Outliers and Boxplots"
   ]
  },
  {
   "cell_type": "code",
   "execution_count": null,
   "metadata": {},
   "outputs": [],
   "source": [
    "# Calculate the final tumor volume of each mouse across four of the treatment regimens:  \n",
    "# Capomulin, Ramicane, Infubinol, and Ceftamin\n",
    "\n",
    "# Start by getting the last (greatest) timepoint for each mouse\n",
    "\n",
    "\n",
    "# Merge this group df with the original dataframe to get the tumor volume at the last timepoint\n"
   ]
  },
  {
   "cell_type": "code",
   "execution_count": null,
   "metadata": {},
   "outputs": [],
   "source": [
    "# Put treatments into a list for for loop (and later for plot labels)\n",
    "\n",
    "\n",
    "# Create empty list to fill with tumor vol data (for plotting)\n",
    "\n",
    "\n",
    "# Calculate the IQR and quantitatively determine if there are any potential outliers. \n",
    "\n",
    "    \n",
    "    # Locate the rows which contain mice on each drug and get the tumor volumes\n",
    "    \n",
    "    \n",
    "    # add subset \n",
    "    \n",
    "    \n",
    "    # Determine outliers using upper and lower bounds\n",
    "    "
   ]
  },
  {
   "cell_type": "code",
   "execution_count": null,
   "metadata": {},
   "outputs": [],
   "source": [
    "# Generate a box plot of the final tumor volume of each mouse across four regimens of interest\n"
   ]
  },
  {
   "cell_type": "markdown",
   "metadata": {},
   "source": [
    "## Line and Scatter Plots"
   ]
  },
  {
   "cell_type": "code",
   "execution_count": null,
   "metadata": {},
   "outputs": [],
   "source": [
    "# Generate a line plot of time point versus tumor volume for a mouse treated with Capomulin\n"
   ]
  },
  {
   "cell_type": "code",
   "execution_count": null,
   "metadata": {},
   "outputs": [],
   "source": [
    "# Generate a scatter plot of mouse weight versus average tumor volume for the Capomulin regimen\n"
   ]
  },
  {
   "cell_type": "markdown",
   "metadata": {},
   "source": [
    "## Correlation and Regression"
   ]
  },
  {
   "cell_type": "code",
   "execution_count": null,
   "metadata": {},
   "outputs": [],
   "source": [
    "# Calculate the correlation coefficient and linear regression model \n",
    "# for mouse weight and average tumor volume for the Capomulin regimen\n"
   ]
  },
  {
   "cell_type": "code",
   "execution_count": null,
   "metadata": {},
   "outputs": [],
   "source": []
  }
 ],
 "metadata": {
  "anaconda-cloud": {},
  "kernelspec": {
   "display_name": "Python 3",
   "language": "python",
   "name": "python3"
  },
  "language_info": {
   "codemirror_mode": {
    "name": "ipython",
    "version": 3
   },
   "file_extension": ".py",
   "mimetype": "text/x-python",
   "name": "python",
   "nbconvert_exporter": "python",
   "pygments_lexer": "ipython3",
   "version": "3.6.10-final"
  }
 },
 "nbformat": 4,
 "nbformat_minor": 2
}